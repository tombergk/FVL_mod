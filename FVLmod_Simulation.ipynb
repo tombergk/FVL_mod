{
 "cells": [
  {
   "cell_type": "markdown",
   "metadata": {},
   "source": [
    "####Permutation experiment for FVL modifiers project\n",
    "\n",
    "##File preparation\n",
    "\n",
    "Downloaded **mouse.protein.gpff.fromRefSeq09-2014** from Uniprot website(http://www.uniprot.org/)\n",
    "\n",
    "As reference I used **annovar_mm10_refLink.txt**, **annovar_mm10_refGene.txt** files that were also used for annotating the variant in variant filtration pipeline (FVLmod_VariantFiltration.ipynb)\n",
    "\n",
    "These files were used to identify a protein sequence length for each gene annotated in our variant file. I used **annotate.py** for this step:"
   ]
  },
  {
   "cell_type": "code",
   "execution_count": null,
   "metadata": {
    "collapsed": true
   },
   "outputs": [],
   "source": [
    "##UNIX command:\n",
    "./annotate.py"
   ]
  },
  {
   "cell_type": "code",
   "execution_count": null,
   "metadata": {
    "collapsed": true
   },
   "outputs": [],
   "source": [
    "#!/usr/bin/env python\n",
    "#define protein coding refGene gene set and the protein length\n",
    "\n",
    "import sys\n",
    "import re\n",
    "from collections import defaultdict\n",
    "\n",
    "#create filenames\n",
    "input1=open('mouse.protein.gpff.fromRefSeq09-2014','r')\n",
    "input2=open('annovar_mm10_refLink.txt','r')\n",
    "input3=open('annovar_mm10_refGene.txt','r')\n",
    "\n",
    "outfile=open('refGene_protein_coding_genes.txt','w')\n",
    "\n",
    "\n",
    "pIDAA=dict()\n",
    "gIDAA=dict()\n",
    "nameAA=dict()\n",
    "\n",
    "for line in input1:\n",
    "\tif not line.startswith('LOCUS'):\n",
    "\t\tcontinue\n",
    "\trow=line.strip().split()\n",
    "\tpIDAA[row[1]]=row[2]\n",
    "\n",
    "for line in input2:\n",
    "\trow=line.strip().split('\\t')\n",
    "\tif row[3] in pIDAA:\n",
    "\t\tgIDAA[row[2]]=pIDAA[row[3]]\n",
    "\telse:\n",
    "\t\tcontinue\n",
    "\n",
    "for line in input3:\n",
    "\tline=line.strip()\n",
    "\trow=line.split('\\t')\n",
    "\tname=row[12]\n",
    "\tgID=row[1]\n",
    "\tif not gID in gIDAA:\n",
    "\t\tcontinue\n",
    "\tif name in nameAA:\n",
    "\t\tif int(nameAA[name])>=int(gIDAA[gID]):\n",
    "\t\t\tcontinue\n",
    "\t\telse:\n",
    "\t\t\tnameAA[name]=gIDAA[gID]\n",
    "\telse:\n",
    "\t\tnameAA[name]=gIDAA[gID]\n",
    "\n",
    "counter=0\n",
    "for name in sorted(nameAA):\n",
    "\tcounter+=1\n",
    "\tprint >> outfile, nameAA[name], name, str(counter)\n",
    "\n",
    "\t"
   ]
  },
  {
   "cell_type": "markdown",
   "metadata": {},
   "source": [
    "Next, using R, I added weighted proportions to each gene normalized to protein size:"
   ]
  },
  {
   "cell_type": "code",
   "execution_count": null,
   "metadata": {
    "collapsed": true
   },
   "outputs": [],
   "source": [
    "table=read.table('refGene_protein_coding_genes.txt',head=FALSE)\n",
    "table$V4=table$V1/(sum(table$V1)/20582)\n",
    "write.table(table,file='refGene_protein_coding_genes_forSim.txt',sep=\"\\t\",quote=FALSE,col.names=FALSE,row.names=FALSE)"
   ]
  },
  {
   "cell_type": "markdown",
   "metadata": {},
   "source": [
    "The sampeling of 3482 hits out of 20582 protein coding genes by weighted probability was accomplished using the **simulate.py** program. In total 10 x 1,000,000 permutations were performed."
   ]
  },
  {
   "cell_type": "code",
   "execution_count": null,
   "metadata": {
    "collapsed": true
   },
   "outputs": [],
   "source": [
    "##UNIX command:\n",
    "./simulate.py 1000000 3482 out1.txt\n",
    "./simulate.py 1000000 3482 out2.txt\n",
    "./simulate.py 1000000 3482 out3.txt\n",
    "./simulate.py 1000000 3482 out4.txt\n",
    "./simulate.py 1000000 3482 out5.txt\n",
    "./simulate.py 1000000 3482 out6.txt\n",
    "./simulate.py 1000000 3482 out7.txt\n",
    "./simulate.py 1000000 3482 out8.txt\n",
    "./simulate.py 1000000 3482 out9.txt\n",
    "./simulate.py 1000000 3482 out10.txt"
   ]
  },
  {
   "cell_type": "markdown",
   "metadata": {},
   "source": [
    "**simulate.py**:"
   ]
  },
  {
   "cell_type": "code",
   "execution_count": null,
   "metadata": {
    "collapsed": true
   },
   "outputs": [],
   "source": [
    "#!/usr/bin/env python\n",
    "\n",
    "import numpy as np\n",
    "import sys\n",
    "\n",
    "#create filenames\n",
    "#NUM_SAMPLES is the number of permutations\n",
    "#mut is the number of mutations per permutation\n",
    "\n",
    "NUM_SAMPLES=int(sys.argv[1])\n",
    "mut=int(sys.argv[2])\n",
    "out=sys.argv[3]\n",
    "outfile=open(out,'w')\n",
    "\n",
    "ids = np.loadtxt('refGene_protein_coding_genes_forSim.txt', usecols=[2])\n",
    "probs = np.loadtxt('refGene_protein_coding_genes_forSim.txt', usecols=[3])\n",
    "probs = probs / np.sum(probs)\n",
    "\n",
    "gene_freqs = np.zeros((len(ids), mut))\n",
    "for i in range(NUM_SAMPLES):\n",
    "        if i%1000==0:\n",
    "                print(i)\n",
    "                \n",
    "        sample = np.random.choice(ids, size=mut, p=probs)\n",
    "        counts = np.zeros(len(ids))\n",
    "        selected_genes = set()\n",
    "        # only counts if a gene has a non-zero frequency in this sample\n",
    "        # can add the zero frequencies at the end\n",
    "        for sampled_gene in sample:\n",
    "                counts[sampled_gene-1] += 1\n",
    "                selected_genes.add(sampled_gene-1)\n",
    "        for j in selected_genes:\n",
    "                gene_freqs[j][counts[j]] += 1\n",
    "\n",
    "# fill in counts for number of samples a gene wasn't selected\n",
    "for a in range(len(ids)):\n",
    "        gene_freqs[a][0] = NUM_SAMPLES - np.sum(gene_freqs[a])\n",
    "\tprint >> outfile,   str(a)+\"\\t\"+\"\\t\".join(map(str, gene_freqs[a][0:21]))"
   ]
  },
  {
   "cell_type": "markdown",
   "metadata": {},
   "source": [
    "Final step incuded combining data from the 10 simulations in R:"
   ]
  },
  {
   "cell_type": "code",
   "execution_count": null,
   "metadata": {
    "collapsed": true
   },
   "outputs": [],
   "source": [
    "data1=read.table('out1.txt')\n",
    "data2=read.table('out2.txt')\n",
    "data3=read.table('out3.txt')\n",
    "data4=read.table('out4.txt')\n",
    "data5=read.table('out5.txt')\n",
    "data6=read.table('out6.txt')\n",
    "data7=read.table('out7.txt')\n",
    "data8=read.table('out8.txt')\n",
    "data9=read.table('out9.txt')\n",
    "data10=read.table('out10.txt')\n",
    "\n",
    "data=data1+data2+data3+data4+data5+data6+data7+data8+data9+data10\n",
    "\n",
    "data$V1=seq(1,20582,1)\n",
    "\n",
    "input=read.table('refGene_protein_coding_genes_forSim.txt')\n",
    "\n",
    "new=cbind(input,data)\n",
    "\n",
    "write.table(new,file=\"simulation_new_10M_3482.txt\", col.names=FALSE, append=FALSE, quote=FALSE,row.names=FALSE,sep=\"\\t\")"
   ]
  }
 ],
 "metadata": {
  "kernelspec": {
   "display_name": "Python 2",
   "language": "python",
   "name": "python2"
  },
  "language_info": {
   "codemirror_mode": {
    "name": "ipython",
    "version": 2
   },
   "file_extension": ".py",
   "mimetype": "text/x-python",
   "name": "python",
   "nbconvert_exporter": "python",
   "pygments_lexer": "ipython2",
   "version": "2.7.6"
  }
 },
 "nbformat": 4,
 "nbformat_minor": 0
}
