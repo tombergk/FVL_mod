{
 "cells": [
  {
   "cell_type": "markdown",
   "metadata": {},
   "source": [
    "####Variant Filtration pipeline for FVL modifiers project\n",
    "\n",
    "##Fastq files\n",
    "\n",
    "All generated fastq files have been deposited to the NCBI Sequence Read Archive (project accession number #PRJNA397141)\n",
    "\n",
    "#PRJNA397141 encompasses 108 whole exome sequencing experiments from 108 different mice\n",
    "\n",
    "Current pipeline calls variants jointly from 107 sequencing experiments.\n",
    "1 sample (G2 offspring of pedigree 1) is excluded from the joint analysis because G1 of the same pedigree is already represented in the cohort."
   ]
  },
  {
   "cell_type": "markdown",
   "metadata": {},
   "source": [
    "##Overview of variant calling pipeline\n",
    "\n",
    "Reference genome: Mus_musculus GRCm38 release 73, downloaded from Ensemble\n",
    "\n",
    "**Used software**: \n",
    "* bwa (version 0.7.5a-r405)\n",
    "* picard-tools (version 1.105)\n",
    "* GenomeAnalysisTK (version 2.6.5)\n",
    "\n",
    "**Steps to obtain the .vcf files:**\n",
    "1. bwa aln -q 15\n",
    " bwa sampe\n",
    "2. picard-tools/SortSam.jar SORT_ORDER=coordinate VALIDATION_STRINGENCY=SILENT CREATE_INDEX=true\n",
    "3. picard-tools/MarkDuplicates.jar VALIDATION_STRINGENCY=SILENT REMOVE_DUPLICATES=true ASSUME_SORTED=true CREATE_INDEX=true\n",
    "4. GenomeAnalysisTK/GenomeAnalysisTK.jar -T RealignerTargetCreator\n",
    "5. GenomeAnalysisTK/GenomeAnalysisTK.jar -T IndelRealigner\n",
    "6. picard-tools/FixMateInformation.jar SORT_ORDER=coordinate VALIDATION_STRINGENCY=SILENT CREATE_INDEX=true\n",
    "7. GenomeAnalysisTK/GenomeAnalysisTK.jar -T HaplotypeCaller -stand_call_conf 50.0 stand_emit_conf\n",
    "8. GenomeAnalysisTK/GenomeAnalysisTK.jar -T VariantAnnotator -A VariantType\n",
    "9. GenomeAnalysisTK/GenomeAnalysisTK.jar -T SelectVariants -selectType SNP \n",
    "10. GenomeAnalysisTK/GenomeAnalysisTK.jar -T SelectVariants -selectType INDEL\n",
    "11. GenomeAnalysisTK/GenomeAnalysisTK.jar -T VariantFiltration --variant SNP.vcf --filterExpression 'QD < 2.0 || MQ < 40.0 || FS > 60.0 || HaplotypeScore > 13.0 || MQRankSum < -12.5 || ReadPosRankSum < -8.0' --filterName 'FAIL'\n",
    "12. GenomeAnalysisTK/GenomeAnalysisTK.jar -T VariantFiltration --variant INDEL.vcf --filterExpression \"QD < 2.0 || FS > 200.0 || ReadPosRankSum < -20.0 || InbreedingCoeff < -0.8\" --filterName FAILED\n",
    "\n",
    "_End result is two vcf files: SNP.vcf and INDEL.vcf_"
   ]
  },
  {
   "cell_type": "markdown",
   "metadata": {},
   "source": [
    "##Annotation of called SNP.vcf and INDEL.vcf\n",
    "\n",
    "Details on Annovar version and reference sequence:\n",
    "\n",
    "1. $LastChangedDate: 2012-05-25\n",
    "2. annotate_variation.pl --buildver mm10 --downdb seq mousedb/mm10_seq\n",
    "_Downloading annotation database ftp://hgdownload.cse.ucsc.edu/goldenPath/mm10/bigZips/chromFa.tar.gz ... OK_"
   ]
  },
  {
   "cell_type": "code",
   "execution_count": null,
   "metadata": {
    "collapsed": true
   },
   "outputs": [],
   "source": [
    "#UNIX commands:\n",
    "\n",
    "cat *.vcf > catted.vcf\n",
    "sort -k1n -k2n catted.vcf > all.vcf\n",
    "grep '#CHROM' all.vcf | head -1 > header.txt\n",
    "\n",
    "convert2annovar.pl all.vcf -format vcf4old -includeinfo > all_annovar\n",
    "annotate_variation.pl all_annovar --buildver mm10 /database/annovar/mousedb/"
   ]
  },
  {
   "cell_type": "markdown",
   "metadata": {},
   "source": [
    "##Preparation of files for filtration\n",
    "\n",
    "###Merge and reformat Annovar output files back into one .vcf\n",
    "\n",
    "Input files are Annovar output files 'all_annovar.exonic_variant_function' and 'all_annovar.variant_function'"
   ]
  },
  {
   "cell_type": "markdown",
   "metadata": {},
   "source": [
    "filtering the **annotate_vcf.py** script merges Annovar annotation files 'all_annovar.exonic_variant_function' and 'all_annovar.variant_function' back into one **all_annovar_annot.vcf** file, adding Annovar annotation to the INFO column"
   ]
  },
  {
   "cell_type": "code",
   "execution_count": null,
   "metadata": {
    "collapsed": true
   },
   "outputs": [],
   "source": [
    "##UNIX command:\n",
    "./annotate_vcf.py all_annovar"
   ]
  },
  {
   "cell_type": "markdown",
   "metadata": {},
   "source": [
    "**annotate_vcf.py**:"
   ]
  },
  {
   "cell_type": "code",
   "execution_count": null,
   "metadata": {
    "collapsed": true
   },
   "outputs": [],
   "source": [
    "#!/usr/bin/env python\n",
    "#This script merges Annovar annotation files back into .vcf format putting annotation information under the INFO column\n",
    "\n",
    "import sys\n",
    "import re\n",
    "\n",
    "FileName=sys.argv[1]\n",
    "\n",
    "#read in annovar input files\n",
    "input1=open(FileName+'.variant_function','r')\n",
    "input2=open(FileName+'.exonic_variant_function','r')\n",
    "#read in the header for .vcf\n",
    "header=open('header.txt','r').readline().rstrip()\n",
    "#define the output file\n",
    "outfile=open(FileName+'_annot.vcf','w')\n",
    "\n",
    "rows=[]\n",
    "exonic=dict()\n",
    "\n",
    "print >> outfile, header\n",
    "\n",
    "#annotate the exonic variants\n",
    "for line in input2:\n",
    "    line=line.strip()\n",
    "    row=line.split('\\t')\n",
    "    row[15]=row[15]+';AnnovarType='+'_'.join(row[1].split())+';AnnovarGene='+'_'.join(row[2].split())\n",
    "    new_line=row[8:len(row)]        \n",
    "    new_line='\\t'.join(new_line)\n",
    "    exonic[(row[3],row[4])]=new_line\n",
    "\n",
    "#read in all the variants\n",
    "for line in input1:\n",
    "    line=line.strip()\n",
    "    row=line.split('\\t')\n",
    "\n",
    "    #if variant already annotated in exonic, print and skip the rest\n",
    "    if (row[2],row[3]) in exonic:\n",
    "        print >> outfile, exonic[(row[2],row[3])]\n",
    "        continue\n",
    "    #otherwise annotate with available info\n",
    "    else:\n",
    "        row[14]=row[14]+';AnnovarType='+'_'.join(row[0].split())+';AnnovarGene='+'_'.join(row[1].split())\n",
    "        new_line=row[7:len(row)]\n",
    "        print >> outfile, '\\t'.join(new_line)\n",
    "        continue\n",
    "\n",
    "input1.close()\n",
    "input2.close()\n",
    "outfile.close()\n"
   ]
  },
  {
   "cell_type": "markdown",
   "metadata": {},
   "source": [
    "Before filtering, I will remove all the non-exonic variants from the input file using script **exonic_variants.py**:"
   ]
  },
  {
   "cell_type": "code",
   "execution_count": null,
   "metadata": {
    "collapsed": true
   },
   "outputs": [],
   "source": [
    "#!/usr/bin/env python\n",
    "#This script will extract variants called within exonic regions\n",
    "\n",
    "import sys\n",
    "import re\n",
    " \n",
    "FileName=sys.argv[1]\n",
    "   \n",
    "input=open(FileName+'_annovar_annot.vcf','r')\n",
    "outfile=open(FileName+'_exonic.vcf','w')\n",
    "\n",
    "\n",
    "for line in input:\n",
    "\tif line.startswith('#'):\n",
    "\t\tprint >> outfile, line.rstrip()\n",
    "\n",
    "\tline=line.rstrip()\n",
    "\trow=line.split('\\t')\n",
    "\tfor i in row[7].split(';'):\n",
    "\t\tif i.startswith('AnnovarType='):\n",
    "\t\t\ttype=i.split('=')[1]\n",
    "\t\t\tif (type=='stopgain') or (type=='stoploss') or (type=='synonymous_SNV') or (type=='nonsynonymous_SNV') or (type=='UTR3') or (type=='UTR5') or (type=='splicing') or (type=='frameshift_insertion') or (type=='nonframeshift_insertion') or (type=='frameshift_deletion') or (type=='nonframeshift_deletion') or (type=='ncRNA_splicing') or (type=='ncRNA_exonic'):\n",
    "\t\t\t\tprint >> outfile, line\n",
    "\t\t\telse:\n",
    "\t\t\t\tbreak\n",
    "\n",
    "input.close()\n",
    "outfile.close()\t\t\t"
   ]
  },
  {
   "cell_type": "markdown",
   "metadata": {},
   "source": [
    "After annotation the file is ready for filtering.\n",
    "\n",
    "First filter removes variants that did not pass GATK filtering\n",
    "python script is called **GATK.py**"
   ]
  },
  {
   "cell_type": "code",
   "execution_count": null,
   "metadata": {
    "collapsed": true
   },
   "outputs": [],
   "source": [
    "##UNIX command:\n",
    "./GATK.py all_exonic"
   ]
  },
  {
   "cell_type": "markdown",
   "metadata": {},
   "source": [
    "**GATK.py**:"
   ]
  },
  {
   "cell_type": "code",
   "execution_count": null,
   "metadata": {
    "collapsed": false
   },
   "outputs": [],
   "source": [
    "#!/usr/bin/env python\n",
    "#This script removes all variants that did not pass GATK filters\n",
    "\n",
    "import sys\n",
    "import re\n",
    "import vcf\n",
    "\n",
    "FileName=sys.argv[1]\n",
    "\n",
    "vcfFile = vcf.Reader( open(FileName+'.vcf','r') )\n",
    "outfile = vcf.Writer(open(FileName+'_filter1.vcf', 'w'), vcfFile)\n",
    "filter1 = vcf.Writer(open('filter1_removed.vcf', 'w'), vcfFile)\n",
    "\n",
    "#filters statistics\n",
    "counter=0\n",
    "f1=0\n",
    "passed=0\n",
    "\n",
    "for record in vcfFile:  \n",
    "    counter+=1    \n",
    "   \n",
    "    #remove variants that did not pass GATK filters\n",
    "    if len(record.FILTER)>0:\n",
    "        f1+=1\n",
    "        filter1.write_record(record)\n",
    "        continue\n",
    "        \n",
    "    passed+=1\n",
    "    outfile.write_record(record)\n",
    "\n",
    "outfile.close()\n",
    "filter1.close()"
   ]
  },
  {
   "cell_type": "markdown",
   "metadata": {},
   "source": [
    "Second filter **unique.py** will remove all variants not uniquely present in only one mouse."
   ]
  },
  {
   "cell_type": "code",
   "execution_count": null,
   "metadata": {
    "collapsed": true
   },
   "outputs": [],
   "source": [
    "##UNIX command:\n",
    "./unique.py all_exonic"
   ]
  },
  {
   "cell_type": "markdown",
   "metadata": {},
   "source": [
    "**unique.py**:"
   ]
  },
  {
   "cell_type": "code",
   "execution_count": null,
   "metadata": {
    "collapsed": true
   },
   "outputs": [],
   "source": [
    "#!/usr/bin/env python\n",
    "#This script removes all variants that are called as hets in more than one mouse, or called as homozygous non-ref\n",
    "\n",
    "import sys\n",
    "import re\n",
    "import vcf\n",
    "\n",
    "FileName=sys.argv[1]\n",
    "\n",
    "vcfFile = vcf.Reader( open(FileName+'_filter1.vcf','r') )\n",
    "outfile = vcf.Writer(open(FileName+'_filter2.vcf', 'w'), vcfFile)\n",
    "filter2 = vcf.Writer(open('filter2_removed.vcf', 'w'), vcfFile)\n",
    "\n",
    "#filters statistics\n",
    "counter=0\n",
    "f2=0\n",
    "passed=0\n",
    "\n",
    "for record in vcfFile:  \n",
    "    counter+=1    \n",
    "   \n",
    "    #remove variants where other mice shared the same variant allele as het or alt-hom    \n",
    "    if record.num_het>1 or record.num_hom_alt>0:\n",
    "        f2+=1\n",
    "        filter2.write_record(record)\n",
    "        continue\n",
    "        \n",
    "    passed+=1\n",
    "    outfile.write_record(record)\n",
    "\n",
    "outfile.close()\n",
    "filter2.close()"
   ]
  },
  {
   "cell_type": "markdown",
   "metadata": {
    "collapsed": true
   },
   "source": [
    "Third filter will remove variants called within the same gene more than once within any given mouse using **unique_genes.py**.\n"
   ]
  },
  {
   "cell_type": "code",
   "execution_count": null,
   "metadata": {
    "collapsed": true
   },
   "outputs": [],
   "source": [
    "##UNIX command:\n",
    "./unique_genes.py all_exonic"
   ]
  },
  {
   "cell_type": "markdown",
   "metadata": {},
   "source": [
    "**unique_genes.py**:"
   ]
  },
  {
   "cell_type": "code",
   "execution_count": null,
   "metadata": {
    "collapsed": true
   },
   "outputs": [],
   "source": [
    "#!/usr/bin/env python\n",
    "#This script removes all variants that are called more than once in any given gene within one mouse\n",
    "\n",
    "import sys\n",
    "import re\n",
    "\n",
    "FileName=sys.argv[1]\n",
    "\n",
    "input=open(FileName+'_filter2.vcf','r')\n",
    "outfile=open(FileName+'_filter3.vcf', 'w')\n",
    "\n",
    "#filters statistics\n",
    "seq=range(0,107)\n",
    "genes=dict()\n",
    "\n",
    "for line in input:\n",
    "\tif line.startswith('#CHROM'):\n",
    "\t\tline=line.rstrip()\n",
    "\t\tprint >> outfile, line\n",
    "\t\trow=line.split('\\t')\n",
    "\t\tmouseIDs=row[9:len(row)]\n",
    "\telse:\n",
    "\t\tline=line.rstrip()\n",
    "\t\trow=line.split('\\t')\n",
    "\t\tinfo=row[7].split(';')\n",
    "\t\tfor i in info:\n",
    "\t\t\tif i.startswith('AnnovarGene='):\n",
    "\t\t\t\ti=i.split('=')[1]\n",
    "\t\t\t\tgene=re.split('[( :]',i)[0]\n",
    "\t\tdata=row[9:len(row)]\n",
    "\t\tfor i in seq:\n",
    "\t\t\tif data[i].startswith('0/1'):\n",
    "\t\t\t\tif (mouseIDs[i],gene) in genes:\n",
    "\t\t\t\t\tgenes[(mouseIDs[i],gene)]='multiple'\n",
    "\t\t\t\telse:\n",
    "\t\t\t\t\tgenes[(mouseIDs[i],gene)]=line\n",
    "\n",
    "for gene in genes:\n",
    "\tif genes[gene]=='multiple':\n",
    "\t\tprint gene\n",
    "\t\tcontinue\n",
    "\telse:\n",
    "\t\tprint >> outfile, genes[gene]\n",
    "\n",
    "input.close()\n",
    "outfile.close()"
   ]
  },
  {
   "cell_type": "markdown",
   "metadata": {
    "collapsed": true
   },
   "source": [
    "Forth filter **RD.py** will remove variants with less than 6 independent reads and an allelic ratio more than 3 fold different"
   ]
  },
  {
   "cell_type": "code",
   "execution_count": null,
   "metadata": {
    "collapsed": true
   },
   "outputs": [],
   "source": [
    " ##UNIX command:\n",
    "./RD.py all_exonic"
   ]
  },
  {
   "cell_type": "markdown",
   "metadata": {
    "collapsed": true
   },
   "source": [
    "**RD.py**:"
   ]
  },
  {
   "cell_type": "code",
   "execution_count": null,
   "metadata": {
    "collapsed": true
   },
   "outputs": [],
   "source": [
    "#!/usr/bin/env python\n",
    "#This script removes all variants that not covered with RD 6, and ratio 1:3\n",
    "import sys\n",
    "import re\n",
    "\n",
    "FileName=sys.argv[1]\n",
    "\n",
    "input=open(FileName+'_filter3.vcf','r')\n",
    "outfile=open(FileName+'_filter4.vcf', 'w')\n",
    "\n",
    "for line in input:\n",
    "\tif line.startswith('#CHROM'):\n",
    "\t\tline=line.rstrip()\n",
    "\t\tprint >> outfile, line\n",
    "\n",
    "\telse:\n",
    "\t\tmouse=''\n",
    "\t\tline=line.rstrip()\n",
    "\t\trow=line.split('\\t')\n",
    "\t\tinfo=row[7].split(';')\n",
    "\t\tdata=row[9:len(row)]\n",
    "\t\tfor mouse in data:\n",
    "\t\t\tif mouse.startswith('0/1'):\n",
    "\t\t\t\thet=mouse.split(':')\n",
    "\t\tRD=het[2]\n",
    "\t\tif not RD.isdigit():\n",
    "\t\t\tcontinue\t\t\n",
    "\t\t#remove calls with less than 6 reads\n",
    "\t\tif int(RD) < 6:\n",
    "\t\t\tcontinue\n",
    "\t\tREF=int(het[1].split(',')[0])\n",
    "\t\tALT=int(het[1].split(',')[1])\n",
    "\t\t#remove calls where Ref or Alt alleles have count 0\n",
    "\t\tif REF==0 or ALT==0:\n",
    "\t\t\tcontinue\n",
    "\t\t#remove reads where Ref/Alt ratio is off more than 3 fold\n",
    "\t\tdev=float(REF)/float(ALT)\n",
    "\t\tif dev <0.3 or dev > 3:\n",
    "\t\t\tcontinue\n",
    "\n",
    "\t\tprint >> outfile, line\n",
    "\n",
    "input.close()\n",
    "outfile.close()"
   ]
  },
  {
   "cell_type": "markdown",
   "metadata": {},
   "source": [
    "**ADDITIONAL FLTERING**\n",
    "\n",
    "At this point (file: all_exonic_filter4.vcf) the variant filtering is finished and the data is used for ENU mutation analysis. Additional filtering steps below are to prepare the burden analysis of ENU protein altering variants."
   ]
  },
  {
   "cell_type": "markdown",
   "metadata": {},
   "source": [
    "We extract protein coding variants using script **coding.py**"
   ]
  },
  {
   "cell_type": "code",
   "execution_count": null,
   "metadata": {
    "collapsed": true
   },
   "outputs": [],
   "source": [
    "##UNIX command:\n",
    "./RD.py all_exonic"
   ]
  },
  {
   "cell_type": "markdown",
   "metadata": {},
   "source": [
    "**coding.py**:"
   ]
  },
  {
   "cell_type": "code",
   "execution_count": null,
   "metadata": {
    "collapsed": true
   },
   "outputs": [],
   "source": [
    "#!/usr/bin/env python\n",
    "#This script will extract variants called within protein coding regions\n",
    "\n",
    "import sys\n",
    "import re\n",
    " \n",
    "FileName=sys.argv[1]\n",
    "   \n",
    "input=open(FileName+'_filter4.vcf','r')\n",
    "outfile=open(FileName+'_filter5.vcf','w')\n",
    "\n",
    "\n",
    "for line in input:\n",
    "\tif line.startswith('#'):\n",
    "\t\tprint >> outfile, line.rstrip()\n",
    "\n",
    "\tline=line.rstrip()\n",
    "\trow=line.split('\\t')\n",
    "\tfor i in row[7].split(';'):\n",
    "\t\tif i.startswith('AnnovarType='):\n",
    "\t\t\ttype=i.split('=')[1]\n",
    "\t\t\tif (type=='stopgain') or (type=='stoploss') or (type=='nonsynonymous_SNV') or (type=='splicing') or (type=='frameshift_insertion') or (type=='frameshift_deletion'):\n",
    "\t\t\t\tprint >> outfile, line\n",
    "\t\t\telse:\n",
    "\t\t\t\tbreak\n",
    "\n",
    "input.close()\n",
    "outfile.close()\t"
   ]
  },
  {
   "cell_type": "markdown",
   "metadata": {},
   "source": [
    "Next step will count how many variants per each gene are in the data set and print out a tab-deliminated text with selected information from the .vcf file. This is done by using **./count_genes.py**."
   ]
  },
  {
   "cell_type": "code",
   "execution_count": null,
   "metadata": {
    "collapsed": true
   },
   "outputs": [],
   "source": [
    "##UNIX command:\n",
    "./count_genes.py all_exonic"
   ]
  },
  {
   "cell_type": "markdown",
   "metadata": {},
   "source": [
    "**count_genes.py**:"
   ]
  },
  {
   "cell_type": "code",
   "execution_count": null,
   "metadata": {
    "collapsed": true
   },
   "outputs": [],
   "source": [
    "#!/usr/bin/env python\n",
    "#This script counts the number of variants and prints out a tab-deliminated text file of main information\n",
    "\n",
    "import sys\n",
    "import re\n",
    "\n",
    "FileName=sys.argv[1]\n",
    "\n",
    "input=open(FileName+'_filter5.vcf','r')\n",
    "outfile=open(FileName+'_final.txt', 'w')\n",
    "\n",
    "#filters statistics\n",
    "seq=range(0,107)\n",
    "genes=dict()\n",
    "\n",
    "for line in input:\n",
    "\tif line.startswith('#CHROM'):\n",
    "\t\tcontinue\n",
    "\telse:\n",
    "\t\tline=line.rstrip()\n",
    "\t\trow=line.split('\\t')\n",
    "\t\tinfo=row[7].split(';')\n",
    "\t\tfor i in info:\n",
    "\t\t\tif i.startswith('AnnovarGene='):\n",
    "\t\t\t\tall_gene=i.split('=')[1]\n",
    "\t\t\t\tgene=re.split('[( :]',all_gene)[0]\n",
    "\t\t\t\tif gene in genes:\n",
    "\t\t\t\t\tgenes[gene]+=1\n",
    "\t\t\t\telse:\n",
    "\t\t\t\t\tgenes[gene]=1\n",
    "\n",
    "input.close()\n",
    "\n",
    "input=open(FileName+'_filter5.vcf','r')\n",
    "print >> outfile, 'CHROM\\tPOS\\tREF\\tALT\\tQUAL\\tAnnovarType\\tAnnovarGene\\tData\\tmouseID\\tGene\\tCount'\n",
    "\n",
    "for line in input:\n",
    "\tif line.startswith('#CHROM'):\n",
    "\t\tline=line.rstrip()\n",
    "\t\trow=line.split('\\t')\n",
    "\t\tmouseIDs=row[9:len(row)]\n",
    "\telse:\n",
    "\t\tline=line.rstrip()\n",
    "\t\trow=line.split('\\t')\n",
    "\t\tinfo=row[7].split(';')\n",
    "\t\tfor i in info:\n",
    "\t\t\tif i.startswith('AnnovarGene='):\n",
    "\t\t\t\tall_gene=i.split('=')[1]\n",
    "\t\t\t\tgene=re.split('[( :]',all_gene)[0]\n",
    "\t\t\telif i.startswith('AnnovarType='):\n",
    "\t\t\t\ttype=i.split('=')[1]\n",
    "\t\talldata=row[9:len(row)]\n",
    "\t\tfor i in seq:\n",
    "\t\t\tif alldata[i].startswith('0/1'):\n",
    "\t\t\t\tdata=alldata[i]\n",
    "\t\t\t\tmouseID=mouseIDs[i]\n",
    "\n",
    "\t\tprint >> outfile, row[0]+'\\t'+row[1]+'\\t'+row[3]+'\\t'+row[4]+'\\t'+row[5]+'\\t'+type+'\\t'+all_gene+'\\t'+data+'\\t'+mouseID+'\\t'+gene+'\\t'+str(genes[gene])\n",
    "\n",
    "input.close()\n",
    "outfile.close()"
   ]
  },
  {
   "cell_type": "markdown",
   "metadata": {},
   "source": [
    "Next simulation p-values are added to the dataset using **add_pval.py**. Look at **FVLmod_Simulation.ipynb** for details of how p-values were identified. "
   ]
  },
  {
   "cell_type": "code",
   "execution_count": null,
   "metadata": {
    "collapsed": true
   },
   "outputs": [],
   "source": [
    "##UNIX command:\n",
    "./add_pval.py all_exonic"
   ]
  },
  {
   "cell_type": "markdown",
   "metadata": {},
   "source": [
    "**add_pval.py**:"
   ]
  },
  {
   "cell_type": "code",
   "execution_count": null,
   "metadata": {
    "collapsed": true
   },
   "outputs": [],
   "source": [
    "#!/usr/bin/env python\n",
    "#add the pvalue from simulations to the final variant file\n",
    "\n",
    "import sys\n",
    "import re\n",
    "\n",
    "#create filenames\n",
    "fileName=sys.argv[1]\n",
    "pvalues=sys.argv[2]\n",
    "\n",
    "input=open(fileName+'.txt','r')\n",
    "outfile=open(fileName+'_pval.txt','w')\n",
    "pval=open(pvalues,'r')\n",
    "\n",
    "genes=dict()\n",
    "\n",
    "for line in pval:\n",
    "\tline=line.strip()\n",
    "\trow=line.split('\\t')\n",
    "\tgenes[row[1]]=line\n",
    "\n",
    "for line in input:\n",
    "\tif line.startswith('CHROM'):\n",
    "\t\tprint >> outfile, line.strip()+'\\tpval'\n",
    "\t\tcontinue\n",
    "\tline=line.strip()\n",
    "\trow=line.split('\\t')\n",
    "\trow[0]\n",
    "\tif row[0]=='X':\n",
    "\t\trow[0]='20'\n",
    "\tgene=row[9]\n",
    "\tAA=int(row[10])\n",
    "\tif gene in genes:\n",
    "\t\tdata=genes[gene].split('\\t')\n",
    "\t\tp=float(data[5+AA])/10000000\n",
    "\t\tprint >> outfile, '\\t'.join(row)+'\\t'+str(p)\n",
    "\telse:\n",
    "\t\tprint 'gene not in genes'\n",
    "\t\tprint >> outfile, '\\t'.join(row)+'\\tNA'"
   ]
  }
 ],
 "metadata": {
  "kernelspec": {
   "display_name": "Python 2",
   "language": "python",
   "name": "python2"
  },
  "language_info": {
   "codemirror_mode": {
    "name": "ipython",
    "version": 2
   },
   "file_extension": ".py",
   "mimetype": "text/x-python",
   "name": "python",
   "nbconvert_exporter": "python",
   "pygments_lexer": "ipython2",
   "version": "2.7.6"
  }
 },
 "nbformat": 4,
 "nbformat_minor": 0
}
